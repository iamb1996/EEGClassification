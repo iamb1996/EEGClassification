{
 "cells": [
  {
   "cell_type": "markdown",
   "metadata": {
    "id": "JJvNJhTU8lFp"
   },
   "source": [
    "# EEG Classifictaion using LSTM"
   ]
  },
  {
   "cell_type": "markdown",
   "metadata": {
    "id": "7SU95Dr_8lFr"
   },
   "source": [
    "This used used LSTM model to classify  electroencephalogram (EEG) brain signal and to predict the human emotions \n"
   ]
  },
  {
   "cell_type": "markdown",
   "metadata": {
    "id": "3_MHL0UM8lFs"
   },
   "source": [
    "##  load & read the dataset"
   ]
  },
  {
   "cell_type": "code",
   "execution_count": 2,
   "metadata": {
    "colab": {
     "base_uri": "https://localhost:8080/"
    },
    "id": "2Ym-HfuB9vAB",
    "outputId": "56f5a68d-6ca2-480c-b8e5-0bb989c8df2f"
   },
   "outputs": [
    {
     "name": "stdout",
     "output_type": "stream",
     "text": [
      "Mounted at /content/gdrive\n"
     ]
    }
   ],
   "source": [
    "# importing and mounting google drive in the notebook\n",
    "from google.colab import drive \n",
    "drive.mount('/content/gdrive')"
   ]
  },
  {
   "cell_type": "code",
   "execution_count": 3,
   "metadata": {
    "id": "HVhCms_y9oSo"
   },
   "outputs": [],
   "source": [
    "%matplotlib inline\n",
    "\n",
    "import warnings\n",
    "import itertools    \n",
    "import numpy as np\n",
    "import tensorflow as tf\n",
    "import pandas as pd\n",
    "import matplotlib.pyplot as plt\n",
    "import seaborn as sns\n",
    "import pandas_profiling as pp\n",
    "\n",
    "from sklearn.preprocessing import LabelEncoder, StandardScaler\n",
    "from sklearn.model_selection import train_test_split\n",
    "from sklearn.metrics import classification_report, confusion_matrix\n",
    "from tensorflow.keras.wrappers.scikit_learn import KerasClassifier\n",
    "from tensorflow.keras.layers import Dense, Flatten, LSTM, Input, Dropout, BatchNormalization, GRU\n",
    "from tensorflow.keras import Model\n",
    "from tensorflow.keras.models import load_model\n",
    "from tensorflow.keras.callbacks import EarlyStopping, LearningRateScheduler, ModelCheckpoint\n",
    "from tensorflow.keras.optimizers import Adam\n",
    "\n",
    "sns.set_style('dark')\n",
    "\n",
    "warnings.filterwarnings('ignore')"
   ]
  },
  {
   "cell_type": "code",
   "execution_count": null,
   "metadata": {
    "_cell_guid": "79c7e3d0-c299-4dcb-8224-4455121ee9b0",
    "_uuid": "d629ff2d2480ee46fbb7e2d37f6b5fab8052498a",
    "id": "spsIUzVW8lFu"
   },
   "outputs": [],
   "source": [
    "df=pd.read_csv('/content/gdrive/MyDrive/Datasets/EEG/emotions.csv')\n",
    "df.head()"
   ]
  },
  {
   "cell_type": "code",
   "execution_count": 5,
   "metadata": {
    "colab": {
     "base_uri": "https://localhost:8080/"
    },
    "id": "c_Y3KT_o8lFu",
    "outputId": "37b98056-ccd6-472c-d56c-636bb42fa927"
   },
   "outputs": [
    {
     "name": "stdout",
     "output_type": "stream",
     "text": [
      "<class 'pandas.core.frame.DataFrame'>\n",
      "RangeIndex: 2132 entries, 0 to 2131\n",
      "Columns: 2549 entries, # mean_0_a to label\n",
      "dtypes: float64(2548), object(1)\n",
      "memory usage: 41.5+ MB\n"
     ]
    }
   ],
   "source": [
    "df.info()"
   ]
  },
  {
   "cell_type": "code",
   "execution_count": 6,
   "metadata": {
    "colab": {
     "base_uri": "https://localhost:8080/",
     "height": 296
    },
    "id": "2z3fSt1U8lFv",
    "outputId": "b0804339-f6f3-4495-a2e2-49d719ead864"
   },
   "outputs": [
    {
     "data": {
      "text/plain": [
       "<matplotlib.axes._subplots.AxesSubplot at 0x7f0113a6edf0>"
      ]
     },
     "execution_count": 6,
     "metadata": {},
     "output_type": "execute_result"
    },
    {
     "data": {
      "image/png": "[encoded data removed]",
      "text/plain": [
       "<Figure size 432x288 with 1 Axes>"
      ]
     },
     "metadata": {},
     "output_type": "display_data"
    }
   ],
   "source": [
    "import seaborn as sns\n",
    "sns.countplot(x='label', data=df)\n"
   ]
  },
  {
   "cell_type": "code",
   "execution_count": 7,
   "metadata": {
    "colab": {
     "base_uri": "https://localhost:8080/"
    },
    "id": "pFklNnjL8lFv",
    "outputId": "ff36ffb8-8e8b-4570-d018-963ce26580aa"
   },
   "outputs": [
    {
     "data": {
      "text/plain": [
       "# mean_0_a    0\n",
       "mean_1_a      0\n",
       "mean_2_a      0\n",
       "mean_3_a      0\n",
       "mean_4_a      0\n",
       "             ..\n",
       "fft_746_b     0\n",
       "fft_747_b     0\n",
       "fft_748_b     0\n",
       "fft_749_b     0\n",
       "label         0\n",
       "Length: 2549, dtype: int64"
      ]
     },
     "execution_count": 7,
     "metadata": {},
     "output_type": "execute_result"
    }
   ],
   "source": [
    "df.isnull().sum()\n",
    "#no missing values"
   ]
  },
  {
   "cell_type": "code",
   "execution_count": null,
   "metadata": {
    "id": "jSPYwDk38lFv"
   },
   "outputs": [],
   "source": [
    "encode = ({'NEUTRAL': 0, 'POSITIVE': 1, 'NEGATIVE': 2} )\n",
    "#new dataset with replaced values\n",
    "df_encoded = df.replace(encode)\n",
    "\n",
    "print(df_encoded.head())\n",
    "print(df_encoded['label'].value_counts())"
   ]
  },
  {
   "cell_type": "code",
   "execution_count": 9,
   "metadata": {
    "colab": {
     "base_uri": "https://localhost:8080/"
    },
    "id": "dJ5GJEqw8lFw",
    "outputId": "d38718b4-9cf2-4226-cd77-259454087659"
   },
   "outputs": [
    {
     "data": {
      "text/plain": [
       "array([2, 0, 1])"
      ]
     },
     "execution_count": 9,
     "metadata": {},
     "output_type": "execute_result"
    }
   ],
   "source": [
    "df_encoded['label'].unique()"
   ]
  },
  {
   "cell_type": "code",
   "execution_count": null,
   "metadata": {
    "id": "sE3g93Jr8lFw"
   },
   "outputs": [],
   "source": [
    "df_encoded.head()"
   ]
  },
  {
   "cell_type": "code",
   "execution_count": 11,
   "metadata": {
    "colab": {
     "base_uri": "https://localhost:8080/"
    },
    "id": "DJi2T_mA8lFw",
    "outputId": "cf669d4e-1d69-4b7d-a53c-11f123da72fd"
   },
   "outputs": [
    {
     "data": {
      "text/plain": [
       "(2132, 2548)"
      ]
     },
     "execution_count": 11,
     "metadata": {},
     "output_type": "execute_result"
    }
   ],
   "source": [
    "x=df_encoded.drop([\"label\"]  ,axis=1)\n",
    "x.shape"
   ]
  },
  {
   "cell_type": "code",
   "execution_count": 12,
   "metadata": {
    "colab": {
     "base_uri": "https://localhost:8080/"
    },
    "id": "C-4IgmoG8lFw",
    "outputId": "a875251e-294b-43ca-d2a0-ed7b281fdb53"
   },
   "outputs": [
    {
     "data": {
      "text/plain": [
       "(2132,)"
      ]
     },
     "execution_count": 12,
     "metadata": {},
     "output_type": "execute_result"
    }
   ],
   "source": [
    "y = df_encoded.loc[:,'label'].values\n",
    "y.shape\n"
   ]
  },
  {
   "cell_type": "code",
   "execution_count": 13,
   "metadata": {
    "colab": {
     "base_uri": "https://localhost:8080/"
    },
    "id": "gohXHCKh8lFx",
    "outputId": "5d5cf143-a4eb-438d-c7f6-482f21ddd66d"
   },
   "outputs": [
    {
     "data": {
      "text/plain": [
       "array([[0., 0., 1.],\n",
       "       [1., 0., 0.],\n",
       "       [0., 1., 0.],\n",
       "       ...,\n",
       "       [0., 0., 1.],\n",
       "       [0., 0., 1.],\n",
       "       [1., 0., 0.]], dtype=float32)"
      ]
     },
     "execution_count": 13,
     "metadata": {},
     "output_type": "execute_result"
    }
   ],
   "source": [
    "from sklearn.preprocessing import StandardScaler\n",
    "scaler = StandardScaler()\n",
    "scaler.fit(x)\n",
    "x = scaler.transform(x)\n",
    "from keras.utils import to_categorical\n",
    "y = to_categorical(y)\n",
    "y"
   ]
  },
  {
   "cell_type": "code",
   "execution_count": null,
   "metadata": {
    "id": "Gy4rt2Ep8lFx"
   },
   "outputs": [],
   "source": [
    "y"
   ]
  },
  {
   "cell_type": "code",
   "execution_count": 14,
   "metadata": {
    "id": "sHF0jDpx8lFx"
   },
   "outputs": [],
   "source": [
    "from sklearn.model_selection import train_test_split\n",
    "x_train, x_test, y_train, y_test = train_test_split(x, y, test_size = 0.2, random_state = 4)"
   ]
  },
  {
   "cell_type": "code",
   "execution_count": 15,
   "metadata": {
    "id": "KNFpwfG-8lFx"
   },
   "outputs": [],
   "source": [
    "x_train = np.reshape(x_train, (x_train.shape[0],1,x.shape[1]))\n",
    "x_test = np.reshape(x_test, (x_test.shape[0],1,x.shape[1]))\n"
   ]
  },
  {
   "cell_type": "code",
   "execution_count": 16,
   "metadata": {
    "colab": {
     "base_uri": "https://localhost:8080/"
    },
    "id": "Sto3ycO58lFy",
    "outputId": "e9bf2a54-ade9-4906-aaf9-a0e9f1f5935c"
   },
   "outputs": [
    {
     "name": "stdout",
     "output_type": "stream",
     "text": [
      "Model: \"sequential\"\n",
      "_________________________________________________________________\n",
      " Layer (type)                Output Shape              Param #   \n",
      "=================================================================\n",
      " lstm (LSTM)                 (None, 1, 64)             668928    \n",
      "                                                                 \n",
      " dropout (Dropout)           (None, 1, 64)             0         \n",
      "                                                                 \n",
      " lstm_1 (LSTM)               (None, 32)                12416     \n",
      "                                                                 \n",
      " dropout_1 (Dropout)         (None, 32)                0         \n",
      "                                                                 \n",
      " dense (Dense)               (None, 3)                 99        \n",
      "                                                                 \n",
      "=================================================================\n",
      "Total params: 681,443\n",
      "Trainable params: 681,443\n",
      "Non-trainable params: 0\n",
      "_________________________________________________________________\n"
     ]
    }
   ],
   "source": [
    "import tensorflow as tf\n",
    "from tensorflow.keras import Sequential\n",
    "\n",
    "from tensorflow.keras.layers import Dense, Dropout\n",
    "from tensorflow.keras.layers import Embedding\n",
    "from tensorflow.keras.layers import LSTM\n",
    "tf.keras.backend.clear_session()\n",
    "\n",
    "model = Sequential()\n",
    "model.add(LSTM(64, input_shape=(1,2548),activation=\"relu\",return_sequences=True))\n",
    "model.add(Dropout(0.2))\n",
    "model.add(LSTM(32,activation=\"sigmoid\"))\n",
    "model.add(Dropout(0.2))\n",
    "#model.add(LSTM(100,return_sequences=True))\n",
    "#model.add(Dropout(0.2))\n",
    "#model.add(LSTM(50))\n",
    "#model.add(Dropout(0.2))\n",
    "model.add(Dense(3, activation='sigmoid'))\n",
    "from keras.optimizers import SGD\n",
    "model.compile(loss = 'categorical_crossentropy', optimizer = \"adam\", metrics = ['accuracy'])\n",
    "model.summary()"
   ]
  },
  {
   "cell_type": "code",
   "execution_count": 18,
   "metadata": {
    "colab": {
     "base_uri": "https://localhost:8080/"
    },
    "id": "WKCAnyPx8xwo",
    "outputId": "74942ba5-a32e-4055-de12-a83cc83d90ce"
   },
   "outputs": [
    {
     "name": "stdout",
     "output_type": "stream",
     "text": [
      "Epoch 1/50\n",
      "51/54 [===========================>..] - ETA: 0s - loss: 0.5716 - accuracy: 0.8235\n",
      "Epoch 1: val_accuracy improved from -inf to 0.92272, saving model to ./best_lstm_model.h5\n",
      "54/54 [==============================] - 6s 25ms/step - loss: 0.5650 - accuracy: 0.8270 - val_loss: 0.3448 - val_accuracy: 0.9227 - lr: 0.0010\n",
      "Epoch 2/50\n",
      "51/54 [===========================>..] - ETA: 0s - loss: 0.2888 - accuracy: 0.9357\n",
      "Epoch 2: val_accuracy did not improve from 0.92272\n",
      "54/54 [==============================] - 1s 15ms/step - loss: 0.2920 - accuracy: 0.9326 - val_loss: 0.2708 - val_accuracy: 0.9204 - lr: 9.0484e-04\n",
      "Epoch 3/50\n",
      "54/54 [==============================] - ETA: 0s - loss: 0.2293 - accuracy: 0.9413\n",
      "Epoch 3: val_accuracy improved from 0.92272 to 0.92740, saving model to ./best_lstm_model.h5\n",
      "54/54 [==============================] - 1s 17ms/step - loss: 0.2293 - accuracy: 0.9413 - val_loss: 0.2241 - val_accuracy: 0.9274 - lr: 8.1873e-04\n",
      "Epoch 4/50\n",
      "54/54 [==============================] - ETA: 0s - loss: 0.1934 - accuracy: 0.9472\n",
      "Epoch 4: val_accuracy did not improve from 0.92740\n",
      "54/54 [==============================] - 1s 16ms/step - loss: 0.1934 - accuracy: 0.9472 - val_loss: 0.2029 - val_accuracy: 0.9274 - lr: 7.4082e-04\n",
      "Epoch 5/50\n",
      "54/54 [==============================] - ETA: 0s - loss: 0.1552 - accuracy: 0.9589\n",
      "Epoch 5: val_accuracy improved from 0.92740 to 0.93677, saving model to ./best_lstm_model.h5\n",
      "54/54 [==============================] - 1s 16ms/step - loss: 0.1552 - accuracy: 0.9589 - val_loss: 0.1867 - val_accuracy: 0.9368 - lr: 6.7032e-04\n",
      "Epoch 6/50\n",
      "53/54 [============================>.] - ETA: 0s - loss: 0.1437 - accuracy: 0.9640\n",
      "Epoch 6: val_accuracy improved from 0.93677 to 0.93911, saving model to ./best_lstm_model.h5\n",
      "54/54 [==============================] - 1s 17ms/step - loss: 0.1439 - accuracy: 0.9636 - val_loss: 0.1758 - val_accuracy: 0.9391 - lr: 6.0653e-04\n",
      "Epoch 7/50\n",
      "50/54 [==========================>...] - ETA: 0s - loss: 0.1242 - accuracy: 0.9725\n",
      "Epoch 7: val_accuracy improved from 0.93911 to 0.94145, saving model to ./best_lstm_model.h5\n",
      "54/54 [==============================] - 1s 16ms/step - loss: 0.1230 - accuracy: 0.9730 - val_loss: 0.1661 - val_accuracy: 0.9415 - lr: 5.4881e-04\n",
      "Epoch 8/50\n",
      "51/54 [===========================>..] - ETA: 0s - loss: 0.1043 - accuracy: 0.9755\n",
      "Epoch 8: val_accuracy improved from 0.94145 to 0.94614, saving model to ./best_lstm_model.h5\n",
      "54/54 [==============================] - 1s 17ms/step - loss: 0.1033 - accuracy: 0.9760 - val_loss: 0.1443 - val_accuracy: 0.9461 - lr: 4.9659e-04\n",
      "Epoch 9/50\n",
      "53/54 [============================>.] - ETA: 0s - loss: 0.0851 - accuracy: 0.9800\n",
      "Epoch 9: val_accuracy did not improve from 0.94614\n",
      "54/54 [==============================] - 1s 16ms/step - loss: 0.0849 - accuracy: 0.9801 - val_loss: 0.1567 - val_accuracy: 0.9415 - lr: 4.4933e-04\n",
      "Epoch 10/50\n",
      "53/54 [============================>.] - ETA: 0s - loss: 0.0728 - accuracy: 0.9870\n",
      "Epoch 10: val_accuracy improved from 0.94614 to 0.95785, saving model to ./best_lstm_model.h5\n",
      "54/54 [==============================] - 1s 16ms/step - loss: 0.0726 - accuracy: 0.9871 - val_loss: 0.1237 - val_accuracy: 0.9578 - lr: 4.0657e-04\n",
      "Epoch 11/50\n",
      "54/54 [==============================] - ETA: 0s - loss: 0.0584 - accuracy: 0.9918\n",
      "Epoch 11: val_accuracy did not improve from 0.95785\n",
      "54/54 [==============================] - 1s 17ms/step - loss: 0.0584 - accuracy: 0.9918 - val_loss: 0.1396 - val_accuracy: 0.9485 - lr: 3.6788e-04\n",
      "Epoch 12/50\n",
      "52/54 [===========================>..] - ETA: 0s - loss: 0.0497 - accuracy: 0.9940\n",
      "Epoch 12: val_accuracy did not improve from 0.95785\n",
      "54/54 [==============================] - 1s 23ms/step - loss: 0.0499 - accuracy: 0.9935 - val_loss: 0.1297 - val_accuracy: 0.9578 - lr: 3.3287e-04\n",
      "Epoch 13/50\n",
      "52/54 [===========================>..] - ETA: 0s - loss: 0.0441 - accuracy: 0.9958\n",
      "Epoch 13: val_accuracy did not improve from 0.95785\n",
      "54/54 [==============================] - 1s 24ms/step - loss: 0.0441 - accuracy: 0.9959 - val_loss: 0.1359 - val_accuracy: 0.9532 - lr: 3.0119e-04\n",
      "Epoch 14/50\n",
      "54/54 [==============================] - ETA: 0s - loss: 0.0392 - accuracy: 0.9965\n",
      "Epoch 14: val_accuracy did not improve from 0.95785\n",
      "54/54 [==============================] - 1s 23ms/step - loss: 0.0392 - accuracy: 0.9965 - val_loss: 0.1273 - val_accuracy: 0.9532 - lr: 2.7253e-04\n",
      "Epoch 15/50\n",
      "52/54 [===========================>..] - ETA: 0s - loss: 0.0359 - accuracy: 0.9982\n",
      "Epoch 15: val_accuracy improved from 0.95785 to 0.96019, saving model to ./best_lstm_model.h5\n",
      "54/54 [==============================] - 1s 20ms/step - loss: 0.0359 - accuracy: 0.9982 - val_loss: 0.1219 - val_accuracy: 0.9602 - lr: 2.4660e-04\n",
      "Epoch 16/50\n",
      "54/54 [==============================] - ETA: 0s - loss: 0.0318 - accuracy: 0.9988\n",
      "Epoch 16: val_accuracy improved from 0.96019 to 0.96253, saving model to ./best_lstm_model.h5\n",
      "54/54 [==============================] - 1s 16ms/step - loss: 0.0318 - accuracy: 0.9988 - val_loss: 0.1248 - val_accuracy: 0.9625 - lr: 2.2313e-04\n",
      "Epoch 17/50\n",
      "53/54 [============================>.] - ETA: 0s - loss: 0.0299 - accuracy: 0.9976\n",
      "Epoch 17: val_accuracy did not improve from 0.96253\n",
      "54/54 [==============================] - 1s 15ms/step - loss: 0.0299 - accuracy: 0.9977 - val_loss: 0.1247 - val_accuracy: 0.9578 - lr: 2.0190e-04\n",
      "Epoch 18/50\n",
      "52/54 [===========================>..] - ETA: 0s - loss: 0.0272 - accuracy: 0.9994\n",
      "Epoch 18: val_accuracy did not improve from 0.96253\n",
      "54/54 [==============================] - 1s 16ms/step - loss: 0.0271 - accuracy: 0.9994 - val_loss: 0.1248 - val_accuracy: 0.9578 - lr: 1.8268e-04\n",
      "Epoch 19/50\n",
      "53/54 [============================>.] - ETA: 0s - loss: 0.0265 - accuracy: 0.9976\n",
      "Epoch 19: val_accuracy did not improve from 0.96253\n",
      "54/54 [==============================] - 1s 16ms/step - loss: 0.0265 - accuracy: 0.9977 - val_loss: 0.1327 - val_accuracy: 0.9578 - lr: 1.6530e-04\n",
      "Epoch 20/50\n",
      "53/54 [============================>.] - ETA: 0s - loss: 0.0249 - accuracy: 0.9988\n",
      "Epoch 20: val_accuracy did not improve from 0.96253\n",
      "54/54 [==============================] - 1s 15ms/step - loss: 0.0249 - accuracy: 0.9988 - val_loss: 0.1327 - val_accuracy: 0.9555 - lr: 1.4957e-04\n",
      "Epoch 21/50\n",
      "53/54 [============================>.] - ETA: 0s - loss: 0.0260 - accuracy: 0.9988\n",
      "Epoch 21: val_accuracy did not improve from 0.96253\n",
      "54/54 [==============================] - 1s 15ms/step - loss: 0.0260 - accuracy: 0.9988 - val_loss: 0.1275 - val_accuracy: 0.9602 - lr: 1.3534e-04\n",
      "Epoch 22/50\n",
      "52/54 [===========================>..] - ETA: 0s - loss: 0.0233 - accuracy: 1.0000\n",
      "Epoch 22: val_accuracy did not improve from 0.96253\n",
      "54/54 [==============================] - 1s 15ms/step - loss: 0.0233 - accuracy: 1.0000 - val_loss: 0.1292 - val_accuracy: 0.9602 - lr: 1.2246e-04\n",
      "Epoch 23/50\n",
      "52/54 [===========================>..] - ETA: 0s - loss: 0.0232 - accuracy: 0.9982\n",
      "Epoch 23: val_accuracy did not improve from 0.96253\n",
      "54/54 [==============================] - 1s 16ms/step - loss: 0.0233 - accuracy: 0.9982 - val_loss: 0.1310 - val_accuracy: 0.9602 - lr: 1.1080e-04\n",
      "Epoch 24/50\n",
      "53/54 [============================>.] - ETA: 0s - loss: 0.0236 - accuracy: 0.9994\n",
      "Epoch 24: val_accuracy did not improve from 0.96253\n",
      "54/54 [==============================] - 1s 15ms/step - loss: 0.0235 - accuracy: 0.9994 - val_loss: 0.1300 - val_accuracy: 0.9602 - lr: 1.0026e-04\n",
      "Epoch 25/50\n",
      "53/54 [============================>.] - ETA: 0s - loss: 0.0213 - accuracy: 1.0000Restoring model weights from the end of the best epoch: 15.\n",
      "\n",
      "Epoch 25: val_accuracy did not improve from 0.96253\n",
      "54/54 [==============================] - 1s 16ms/step - loss: 0.0213 - accuracy: 1.0000 - val_loss: 0.1326 - val_accuracy: 0.9602 - lr: 9.0718e-05\n",
      "Epoch 25: early stopping\n"
     ]
    }
   ],
   "source": [
    "adam = Adam(learning_rate=0.001)\n",
    "\n",
    "es = EarlyStopping(monitor='val_loss', mode='min', verbose=1, patience=10, restore_best_weights=True)\n",
    "mc = ModelCheckpoint('./best_lstm_model.h5', monitor='val_accuracy', mode='max', verbose=1, save_best_only=True)\n",
    "lr_schedule = LearningRateScheduler(lambda epoch: 0.001 * np.exp(-epoch / 10.))\n",
    "                                    \n",
    "model.compile(optimizer=adam,\n",
    "                  loss=['categorical_crossentropy'],\n",
    "                  metrics=['accuracy'])\n",
    "        \n",
    "lstm_h = model.fit(x_train, y_train,\n",
    "                   batch_size=32,\n",
    "                   validation_data=(x_test, y_test),\n",
    "                   epochs=50,\n",
    "                   callbacks=[es, mc, lr_schedule])"
   ]
  },
  {
   "cell_type": "code",
   "execution_count": 19,
   "metadata": {
    "colab": {
     "base_uri": "https://localhost:8080/",
     "height": 741
    },
    "id": "FiVUs1-d8lFy",
    "outputId": "f47ad3de-4bcf-45d7-988e-b32eca7455cf"
   },
   "outputs": [
    {
     "data": {
      "image/png": "[encoded data removed]",
      "text/plain": [
       "<Figure size 864x864 with 2 Axes>"
      ]
     },
     "metadata": {},
     "output_type": "display_data"
    }
   ],
   "source": [
    "acc = lstm_h.history['accuracy']\n",
    "val_acc = lstm_h.history['val_accuracy']\n",
    "\n",
    "loss = lstm_h.history['loss']\n",
    "val_loss = lstm_h.history['val_loss']\n",
    "\n",
    "\n",
    "plt.figure(figsize=(12, 12))\n",
    "\n",
    "plt.subplot(2, 1, 1)\n",
    "plt.plot(acc, label='Training Accuracy', color='r')\n",
    "plt.plot(val_acc, label='Validation Accuracy', color='b')\n",
    "plt.xticks(fontsize=14)\n",
    "plt.yticks(fontsize=14)\n",
    "plt.legend(loc='lower right', fontsize=13)\n",
    "plt.ylabel('Accuracy', fontsize=16, weight='bold')\n",
    "plt.title('LSTM - Training & Validation Acc.', fontsize=16, weight='bold')\n",
    "\n",
    "\n",
    "plt.subplot(2, 1, 2)\n",
    "plt.plot(loss, label='Training Loss', color='r')\n",
    "plt.plot(val_loss, label='Validation Loss', color='b')\n",
    "plt.xticks(fontsize=14)\n",
    "plt.yticks(fontsize=14)\n",
    "plt.legend(loc='upper right', fontsize=13)\n",
    "plt.ylabel('Cross Entropy', fontsize=16, weight='bold')\n",
    "plt.title('LSTM - Training & Validation Loss', fontsize=15, weight='bold')\n",
    "plt.xlabel('Epoch', fontsize=15, weight='bold')\n",
    "\n",
    "plt.show()"
   ]
  },
  {
   "cell_type": "code",
   "execution_count": 20,
   "metadata": {
    "colab": {
     "base_uri": "https://localhost:8080/"
    },
    "id": "IXy_m0wY-hof",
    "outputId": "392ed73b-cdc2-43ea-dc33-e925df5a773c"
   },
   "outputs": [
    {
     "name": "stdout",
     "output_type": "stream",
     "text": [
      "Test Acc.: 96.253%\n"
     ]
    }
   ],
   "source": [
    "lstm_best = load_model('./best_lstm_model.h5')\n",
    "lstm_acc = lstm_best.evaluate(x_test, y_test, verbose=0)[1]\n",
    "print(\"Test Acc.: {:.3f}%\".format(lstm_acc * 100))"
   ]
  },
  {
   "cell_type": "code",
   "execution_count": 24,
   "metadata": {
    "colab": {
     "base_uri": "https://localhost:8080/"
    },
    "id": "hq1l6qjV8lFy",
    "outputId": "80bf4079-573d-473c-9896-37aa521ebd50"
   },
   "outputs": [
    {
     "name": "stdout",
     "output_type": "stream",
     "text": [
      "14/14 [==============================] - 0s 4ms/step\n",
      "(427,)\n",
      "(427,)\n",
      "Training Accuracy: 0.9625292740046838\n"
     ]
    }
   ],
   "source": [
    "from sklearn.metrics import accuracy_score\n",
    "pred = lstm_best.predict(x_test)\n",
    "predict_classes = np.argmax(pred,axis=1)\n",
    "expected_classes = np.argmax(y_test,axis=1)\n",
    "print(expected_classes.shape)\n",
    "print(predict_classes.shape)\n",
    "correct = accuracy_score(expected_classes,predict_classes)\n",
    "print(f\"Training Accuracy: {correct}\")"
   ]
  },
  {
   "cell_type": "code",
   "execution_count": 33,
   "metadata": {
    "colab": {
     "base_uri": "https://localhost:8080/"
    },
    "id": "9VqaFSQhCDp_",
    "outputId": "0ceda850-ca1c-45be-ebcf-644c7e63e1dd"
   },
   "outputs": [
    {
     "name": "stdout",
     "output_type": "stream",
     "text": [
      "              precision    recall  f1-score   support\n",
      "\n",
      "           0       0.97      0.99      0.98       153\n",
      "           1       0.98      0.91      0.94       142\n",
      "           2       0.94      0.99      0.96       132\n",
      "\n",
      "    accuracy                           0.96       427\n",
      "   macro avg       0.96      0.96      0.96       427\n",
      "weighted avg       0.96      0.96      0.96       427\n",
      "\n"
     ]
    }
   ],
   "source": [
    "print(classification_report(expected_classes, predict_classes))"
   ]
  },
  {
   "cell_type": "code",
   "execution_count": 27,
   "metadata": {
    "colab": {
     "base_uri": "https://localhost:8080/",
     "height": 279
    },
    "id": "CTGPqrm3_qkh",
    "outputId": "d54ef978-4dbe-4da3-cdb3-dbaa3eb59e75"
   },
   "outputs": [
    {
     "data": {
      "image/png": "[encoded data removed]",
      "text/plain": [
       "<Figure size 432x288 with 2 Axes>"
      ]
     },
     "metadata": {},
     "output_type": "display_data"
    }
   ],
   "source": [
    "import matplotlib.pyplot as plt\n",
    "import numpy\n",
    "from sklearn import metrics\n",
    "\n",
    "confusion_matrix = metrics.confusion_matrix(expected_classes, predict_classes)\n",
    "\n",
    "cm_display = metrics.ConfusionMatrixDisplay(confusion_matrix = confusion_matrix, display_labels = [False, True])\n",
    "\n",
    "cm_display.plot()\n",
    "plt.show()"
   ]
  }
 ],
 "metadata": {
  "colab": {
   "provenance": []
  },
  "kernelspec": {
   "display_name": "Python 3 (ipykernel)",
   "language": "python",
   "name": "python3"
  },
  "language_info": {
   "codemirror_mode": {
    "name": "ipython",
    "version": 3
   },
   "file_extension": ".py",
   "mimetype": "text/x-python",
   "name": "python",
   "nbconvert_exporter": "python",
   "pygments_lexer": "ipython3",
   "version": "3.9.12"
  }
 },
 "nbformat": 4,
 "nbformat_minor": 1
}
